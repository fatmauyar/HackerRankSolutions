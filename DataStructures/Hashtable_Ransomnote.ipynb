{
 "cells": [
  {
   "cell_type": "markdown",
   "metadata": {},
   "source": [
    "### [Hackerrank Challenge: Hash Tables: Ransom Note](https://www.hackerrank.com/challenges/ctci-ransom-note/problem)\n",
    "\n",
    "Harold is a kidnapper who wrote a ransom note, but now he is worried it will be traced back to him through his handwriting. He found a magazine and wants to know if he can cut out whole words from it and use them to create an untraceable replica of his ransom note. The words in his note are *case-sensitive* and he *must* use only whole words available in the magazine.  He *cannot* use substrings or concatenation to create the words he needs.\n",
    "\n",
    "Given the words in the magazine and the words in the ransom note, print `Yes` if he can replicate his ransom note *exactly* using whole words from the magazine; otherwise, print `No`.\n",
    "\n",
    "For example, the note is \"Attack at dawn\".  The magazine contains only \"attack at dawn\".  The magazine has all the right words, but there's a case mismatch.  The answer is $No$.  \n",
    "\n",
    "**Function Description**\n",
    "\n",
    "Complete the *checkMagazine* function in the editor below.  It must print $Yes$ if the note can be formed using the magazine, or $No$.  \n",
    "\n",
    "checkMagazine has the following parameters:  \n",
    "\n",
    "- *magazine*: an array of strings, each a word in the magazine  \n",
    "- *note*: an array of strings, each a word in the ransom note  \n",
    "    \n",
    "    \n",
    "**Input Format**\n",
    "\n",
    "The first line contains two space-separated integers, *m* and *n*, the numbers of words in the *magazine* and the *note.  \n",
    "The second line contains *m* space-separated strings, each *magazine*[i].  \n",
    "The third line contains *n* space-separated strings, each *note*[i].   \n",
    "\n",
    "**Output Format**\n",
    "\n",
    "Print Yes if he can use the magazine to create an untraceable replica of his ransom note. Otherwise, print No."
   ]
  },
  {
   "cell_type": "code",
   "execution_count": 1,
   "metadata": {},
   "outputs": [
    {
     "name": "stdout",
     "output_type": "stream",
     "text": [
      "Test input for the challenge: \n",
      "6 4\r\n",
      "give me one grand today night\r\n",
      "give one grand today"
     ]
    }
   ],
   "source": [
    "print('Test input for the challenge: ')\n",
    "!head -100 ../input/ransomnote.txt "
   ]
  },
  {
   "cell_type": "code",
   "execution_count": 2,
   "metadata": {},
   "outputs": [
    {
     "name": "stdout",
     "output_type": "stream",
     "text": [
      "Yes\n"
     ]
    }
   ],
   "source": [
    "'''\n",
    "Problem   : https://www.hackerrank.com/challenges/ctci-ransom-note/problem\n",
    "Author    : Fatma Uyar Morency @ 2018\n",
    "Github    : https://github.com/fatmauyar\n",
    "Hackerrank: https://www.hackerrank.com/fatmauyar\n",
    "'''\n",
    "# Complete the checkMagazine function below.\n",
    "def checkMagazine(magazine, note):\n",
    "    Dict={}  #create a dictionary\n",
    "    for word in magazine:\n",
    "        if word in Dict:\n",
    "            Dict[word]+=1\n",
    "        else:\n",
    "            Dict[word]=1\n",
    "    \n",
    "    for word in note:\n",
    "        if word in Dict:\n",
    "            Dict[word] -=1\n",
    "            if Dict[word] <0:\n",
    "                return print('No')\n",
    "        else:\n",
    "            return print('No')\n",
    "    \n",
    "    return print('Yes')\n",
    "\n",
    "fo = open(\"../input/ransomnote.txt\", \"r\")\n",
    "\n",
    "mn = str(fo.readline()).split()\n",
    "\n",
    "m = int(mn[0])\n",
    "\n",
    "n = int(mn[1])\n",
    "\n",
    "magazine = str(fo.readline()).rstrip().split()\n",
    "\n",
    "note = str(fo.readline()).rstrip().split()\n",
    "\n",
    "checkMagazine(magazine, note)\n"
   ]
  }
 ],
 "metadata": {
  "kernelspec": {
   "display_name": "Python 3",
   "language": "python",
   "name": "python3"
  },
  "language_info": {
   "codemirror_mode": {
    "name": "ipython",
    "version": 3
   },
   "file_extension": ".py",
   "mimetype": "text/x-python",
   "name": "python",
   "nbconvert_exporter": "python",
   "pygments_lexer": "ipython3",
   "version": "3.6.4"
  }
 },
 "nbformat": 4,
 "nbformat_minor": 2
}
