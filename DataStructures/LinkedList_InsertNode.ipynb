{
 "cells": [
  {
   "cell_type": "markdown",
   "metadata": {},
   "source": [
    "### [Hackerrank Challenge: Insert a node at a specific position in a linked list](https://www.hackerrank.com/challenges/insert-a-node-at-a-specific-position-in-a-linked-list/)\n",
    "\n",
    "\n",
    "This challenge is part of a tutorial track by [MyCodeSchool](http://www.youtube.com/mycodeschool) and is accompanied by a video lesson.\n",
    "\n",
    "You’re given the pointer to the head node of a linked list, an integer to add to the list and the position at which the integer must be inserted. Create a new node with the given integer, insert this node at the desired position and return the head node.  \n",
    "\n",
    "A position of 0 indicates head, a position of 1 indicates one node away from the head and so on. The head pointer given may be null meaning that the initial list is empty.  \n",
    "\n",
    "As an example, if your list starts as $1 \\rightarrow 2 \\rightarrow 3$ and you want to insert a node at position $2$ with $data = 4$, your new list should be $1 \\rightarrow 2 \\rightarrow 4 \\rightarrow 3$\n",
    "\n",
    "**Function Description**\n",
    "Complete the function *insertNodeAtPosition* in the editor below.  It must return a reference to the head node of your finished list.\n",
    "\n",
    "insertNodeAtPosition has the following parameters:\n",
    "\n",
    "-  *head*: a SinglyLinkedListNode pointer to the head of the list\n",
    "-  *data*: an integer value to insert as data in your new node\n",
    "-  *position*: an integer position to insert the new node, zero based indexing\n",
    "\n",
    "**Input Format**\n",
    "\n",
    "The first line contains an integer n, the number of elements in the linked list.\n",
    "\n",
    "Each of the next n lines contains an integer SinglyLinkedListNode[i].data.\n",
    "\n",
    "The last line contains an integer position ."
   ]
  },
  {
   "cell_type": "code",
   "execution_count": 1,
   "metadata": {},
   "outputs": [
    {
     "name": "stdout",
     "output_type": "stream",
     "text": [
      "Test input for the challenge: \n",
      "3\r\n",
      "16\r\n",
      "13\r\n",
      "7\r\n",
      "1\r\n",
      "2"
     ]
    }
   ],
   "source": [
    "print('Test input for the challenge: ')\n",
    "!head -100 ../input/insertnode.txt "
   ]
  },
  {
   "cell_type": "code",
   "execution_count": 2,
   "metadata": {},
   "outputs": [
    {
     "name": "stdout",
     "output_type": "stream",
     "text": [
      "Updated tree with inserted node:\n",
      "16\n",
      "13\n",
      "1\n",
      "7\n"
     ]
    }
   ],
   "source": [
    "'''\n",
    "Problem   : https://www.hackerrank.com/challenges/insert-a-node-at-a-specific-position-in-a-linked-list\n",
    "Author    : Fatma Uyar Morency @ 2018\n",
    "Github    : https://github.com/fatmauyar\n",
    "Hackerrank: https://www.hackerrank.com/fatmauyar\n",
    "'''\n",
    "\n",
    "\n",
    "class SinglyLinkedListNode:\n",
    "    def __init__(self, node_data):\n",
    "        self.data = node_data\n",
    "        self.next = None\n",
    "\n",
    "\n",
    "class SinglyLinkedList:\n",
    "    def __init__(self):\n",
    "        self.head = None\n",
    "        self.tail = None\n",
    "\n",
    "    def insert_node(self, node_data):\n",
    "        node = SinglyLinkedListNode(node_data)\n",
    "\n",
    "        if not self.head:\n",
    "            self.head = node\n",
    "        else:\n",
    "            self.tail.next = node\n",
    "\n",
    "        self.tail = node\n",
    "\n",
    "\n",
    "def print_singly_linked_list(node):\n",
    "    while node:\n",
    "        print(str(node.data))\n",
    "        node = node.next\n",
    "\n",
    "\n",
    "# Complete the insertNodeAtPosition function below.\n",
    "def insertNodeAtPosition(head, data, position):\n",
    "    node = SinglyLinkedListNode(data)\n",
    "    prev = head\n",
    "    for i in range(0, position-1):\n",
    "        prev = prev.next  # access the data at position-1\n",
    "\n",
    "    pos = prev.next  # this one has the old node at position\n",
    "    prev.next = node  # now point to new data\n",
    "    prev.next.next = pos  # relink with old position\n",
    "\n",
    "    return head\n",
    "\n",
    "\n",
    "fo = open(\"../input/insertnode.txt\", \"r\")\n",
    "\n",
    "llist_count = int(fo.readline())\n",
    "\n",
    "llist = SinglyLinkedList()\n",
    "\n",
    "for _ in range(llist_count):\n",
    "    llist_item = int(fo.readline())\n",
    "    llist.insert_node(llist_item)\n",
    "\n",
    "data = int(fo.readline())\n",
    "\n",
    "position = int(fo.readline())\n",
    "\n",
    "llist_head = insertNodeAtPosition(llist.head, data, position)\n",
    "\n",
    "print('Updated tree with inserted node:')\n",
    "print_singly_linked_list(llist_head)\n",
    "\n",
    "fo.close()"
   ]
  },
  {
   "cell_type": "code",
   "execution_count": null,
   "metadata": {},
   "outputs": [],
   "source": []
  }
 ],
 "metadata": {
  "kernelspec": {
   "display_name": "Python 3",
   "language": "python",
   "name": "python3"
  },
  "language_info": {
   "codemirror_mode": {
    "name": "ipython",
    "version": 3
   },
   "file_extension": ".py",
   "mimetype": "text/x-python",
   "name": "python",
   "nbconvert_exporter": "python",
   "pygments_lexer": "ipython3",
   "version": "3.6.4"
  }
 },
 "nbformat": 4,
 "nbformat_minor": 2
}
