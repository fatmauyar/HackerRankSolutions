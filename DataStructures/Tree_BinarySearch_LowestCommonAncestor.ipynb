{
 "cells": [
  {
   "cell_type": "markdown",
   "metadata": {},
   "source": [
    "### [Hackerrank Challenge: Binary Search Tree : Lowest Common Ancestor](https://www.hackerrank.com/challenges/binary-search-tree-lowest-common-ancestor/problem)\n",
    "\n",
    "\n",
    "You are given pointer to the root of the binary search tree and two values $v1$ and $v2$. You need to return the lowest common ancestor ([LCA](https://en.wikipedia.org/wiki/Lowest_common_ancestor)) of $v1$ and $v2$ in the binary search tree.  \n",
    "\n",
    "\n",
    "![image](https://s3.amazonaws.com/hr-assets/0/1529959649-81b68736f7-lcaexample.png)  \n",
    "[//]: # \"![image](https://s3.amazonaws.com/hr-assets/0/1502911253-5a96d423eb-lca.png)\"\n",
    "\n",
    "In the diagram above, the lowest common ancestor of the nodes $4$ and $6$ is the node $3$.  Node $3$ is the lowest node which has nodes $4$ and $6$ as descendants.\n",
    "\n",
    "**Function Description**  \n",
    "\n",
    "Complete the function *lca* in the editor below.  It should return a pointer to the lowest common ancestor node of the two values given.  \n",
    "\n",
    "lca has the following parameters:  \n",
    "-  root: a pointer to the root node of a binary search tree  \n",
    "-  v1: a node.data value  \n",
    "-  v2: a node.data value  \n",
    "\n",
    "**Input Format**\n",
    "\n",
    "The first line contains an integer, n, the number of nodes in the tree.\n",
    "\n",
    "The second line contains space-separated integers representing values.\n",
    "\n",
    "The third line contains two space-separated integers,v1 and v2. \n",
    "\n",
    "**Output Format**\n",
    "\n",
    "Return the a pointer to the node that is the lowest common ancestor of v1 and v2"
   ]
  },
  {
   "cell_type": "code",
   "execution_count": 1,
   "metadata": {},
   "outputs": [
    {
     "name": "stdout",
     "output_type": "stream",
     "text": [
      "Test input for the challenge: \n",
      "6\r\n",
      "4 2 3 1 7 6\r\n",
      "1 7"
     ]
    }
   ],
   "source": [
    "print('Test input for the challenge: ')\n",
    "!head -100 ../input/binarysearchtree.txt "
   ]
  },
  {
   "cell_type": "code",
   "execution_count": 2,
   "metadata": {},
   "outputs": [
    {
     "name": "stdout",
     "output_type": "stream",
     "text": [
      "4\n"
     ]
    }
   ],
   "source": [
    "class Node:\n",
    "    def __init__(self, info): \n",
    "        self.info = info  \n",
    "        self.left = None  \n",
    "        self.right = None \n",
    "        self.level = None \n",
    "\n",
    "    def __str__(self):\n",
    "        return str(self.info) \n",
    "\n",
    "class BinarySearchTree:\n",
    "    def __init__(self): \n",
    "        self.root = None\n",
    "\n",
    "    def create(self, val):  \n",
    "        if self.root == None:\n",
    "            self.root = Node(val)\n",
    "        else:\n",
    "            current = self.root\n",
    "         \n",
    "            while True:\n",
    "                if val < current.info:\n",
    "                    if current.left:\n",
    "                        current = current.left\n",
    "                    else:\n",
    "                        current.left = Node(val)\n",
    "                        break\n",
    "                elif val > current.info:\n",
    "                    if current.right:\n",
    "                        current = current.right\n",
    "                    else:\n",
    "                        current.right = Node(val)\n",
    "                        break\n",
    "                else:\n",
    "                    break\n",
    "\n",
    "# Enter your code here. Read input from STDIN. Print output to STDOUT\n",
    "'''\n",
    "class Node:\n",
    "      def __init__(self,info): \n",
    "          self.info = info  \n",
    "          self.left = None  \n",
    "          self.right = None \n",
    "           \n",
    "\n",
    "       // this is a node of the tree , which contains info as data, left , right\n",
    "'''\n",
    "\n",
    "def lca(root, v1, v2):\n",
    "    found=False\n",
    "    while not found:\n",
    "        rval=root.info # root value \n",
    "        if (v1<rval and v2>rval) or (v1>rval and v2<rval) or rval in [v1,v2]:\n",
    "            lca=root\n",
    "            break\n",
    "            \n",
    "        if v1<rval and v2<rval:\n",
    "            root=root.left\n",
    "        \n",
    "        elif v1>rval and v2>rval:\n",
    "            root=root.right\n",
    "                \n",
    "    return lca\n",
    "\n",
    "fo = open(\"../input/binarysearchtree.txt\", \"r\")\n",
    "\n",
    "tree = BinarySearchTree()\n",
    "t = int(fo.readline())\n",
    "\n",
    "arr = list(map(int, fo.readline().split()))\n",
    "\n",
    "for i in range(t):\n",
    "    tree.create(arr[i])\n",
    "\n",
    "v = list(map(int, fo.readline().split()))\n",
    "\n",
    "ans = lca(tree.root, v[0], v[1])\n",
    "print (ans.info)\n",
    "\n",
    "fo.close()\n"
   ]
  },
  {
   "cell_type": "code",
   "execution_count": null,
   "metadata": {},
   "outputs": [],
   "source": []
  }
 ],
 "metadata": {
  "kernelspec": {
   "display_name": "Python 3",
   "language": "python",
   "name": "python3"
  },
  "language_info": {
   "codemirror_mode": {
    "name": "ipython",
    "version": 3
   },
   "file_extension": ".py",
   "mimetype": "text/x-python",
   "name": "python",
   "nbconvert_exporter": "python",
   "pygments_lexer": "ipython3",
   "version": "3.6.4"
  }
 },
 "nbformat": 4,
 "nbformat_minor": 2
}
