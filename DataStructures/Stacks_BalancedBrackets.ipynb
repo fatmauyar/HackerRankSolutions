{
 "cells": [
  {
   "cell_type": "markdown",
   "metadata": {},
   "source": [
    "### [Hackerrank Challenge: Balanced Brackets](https://www.hackerrank.com/challenges/balanced-brackets/problem)\n",
    "\n",
    "\n",
    "A bracket is considered to be any one of the following characters: `(`, `)`, `{`, `}`, `[`, or `]`.\t\n",
    "\n",
    "Two brackets are considered to be a *matched pair* if the an opening bracket (i.e., `(`, `[`, or `{`) occurs to the left of a closing bracket (i.e., `)`, `]`, or `}`) *of the exact same type*. There are three types of matched pairs of brackets: `[]`, `{}`, and `()`.\n",
    "\n",
    "A matching pair of brackets is *not balanced* if the set of brackets it encloses are not matched. For example, `{[(])}` is not balanced because the contents in between `{` and `}` are not balanced. The pair of square brackets encloses a single, unbalanced opening bracket, `(`, and the pair of parentheses encloses a single, unbalanced closing square bracket, `]`.\n",
    "\n",
    "By this logic, we say a sequence of brackets is *balanced* if the following conditions are met:\n",
    "\n",
    "- It contains no unmatched brackets.\n",
    "- The subset of brackets enclosed within the confines of a matched pair of brackets  is also a matched pair of brackets.\n",
    "\n",
    "Given $n$ strings of brackets, determine whether each sequence of brackets is balanced. If a string is balanced, return `YES`.  Otherwise, return `NO`.  \n",
    "\n",
    "**Function Description**  \n",
    "\n",
    "Complete the function *isBalanced* in the editor below.  It must return a string: `YES` if the sequence is balanced or `NO` if it is not.  \n",
    "\n",
    "isBalanced has the following parameter(s):\n",
    "\n",
    "- *s*: a string of brackets\n",
    "\n",
    "**Input Format**\n",
    "\n",
    "The first line contains a single integer *n*, the number of strings.  \n",
    "Each of the next *n* lines contains a single string , a sequence of brackets.\n",
    "\n",
    "**Output Format**\n",
    "\n",
    "For each string, return YES or NO."
   ]
  },
  {
   "cell_type": "code",
   "execution_count": 2,
   "metadata": {},
   "outputs": [
    {
     "name": "stdout",
     "output_type": "stream",
     "text": [
      "Test input for the challenge: \n",
      "3\r\n",
      "{[()]}\r\n",
      "{[(])}\r\n",
      "{{[[(())]]}}"
     ]
    }
   ],
   "source": [
    "print('Test input for the challenge: ')\n",
    "!head -100 ../input/balancedbrackets.txt "
   ]
  },
  {
   "cell_type": "code",
   "execution_count": 4,
   "metadata": {},
   "outputs": [
    {
     "name": "stdout",
     "output_type": "stream",
     "text": [
      "YES\n"
     ]
    }
   ],
   "source": [
    "'''\n",
    "Problem   : https://www.hackerrank.com/challenges/balanced-brackets/problem\n",
    "Author    : Fatma Uyar Morency @ 2018\n",
    "Github    : https://github.com/fatmauyar\n",
    "Hackerrank: https://www.hackerrank.com/fatmauyar\n",
    "'''\n",
    "\n",
    "# Complete the isBalanced function below.\n",
    "def isMirror(s1,s2):\n",
    "    if s1=='(' and s2==')': return True\n",
    "    if s1=='{' and s2=='}': return True\n",
    "    if s1=='[' and s2==']': return True\n",
    "    return False\n",
    " \n",
    "def isBalanced(s):\n",
    "    stack=[]\n",
    "    for i in range(0,len(s)):\n",
    "        if s[i] in ['(','{','[']:\n",
    "            stack.append(s[i])\n",
    "        else: \n",
    "            if stack!=[] and isMirror(stack[-1],s[i]):\n",
    "                stack.pop()\n",
    "            else: return 'NO'\n",
    "                \n",
    "    if len(stack)==0: return 'YES' #balanced \n",
    "    else:\n",
    "        return 'NO'\n",
    "\n",
    "fo = open(\"../input/balancedbrackets.txt\", \"r\")\n",
    "\n",
    "t = int(fo.readline())\n",
    "\n",
    "for t_itr in range(t):\n",
    "    s = fo.readline()\n",
    "    result = isBalanced(s)\n",
    "\n",
    "print(result)\n",
    "\n"
   ]
  },
  {
   "cell_type": "code",
   "execution_count": null,
   "metadata": {},
   "outputs": [],
   "source": []
  }
 ],
 "metadata": {
  "kernelspec": {
   "display_name": "Python 3",
   "language": "python",
   "name": "python3"
  },
  "language_info": {
   "codemirror_mode": {
    "name": "ipython",
    "version": 3
   },
   "file_extension": ".py",
   "mimetype": "text/x-python",
   "name": "python",
   "nbconvert_exporter": "python",
   "pygments_lexer": "ipython3",
   "version": "3.6.4"
  }
 },
 "nbformat": 4,
 "nbformat_minor": 2
}
